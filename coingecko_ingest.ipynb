{
 "cells": [
  {
   "cell_type": "code",
   "execution_count": 19,
   "metadata": {
    "application/vnd.databricks.v1+cell": {
     "cellMetadata": {
      "byteLimit": 2048000,
      "rowLimit": 10000
     },
     "inputWidgets": {},
     "nuid": "90ee3c5d-d842-486c-87b9-02a09162d2ca",
     "showTitle": false,
     "tableResultSettingsMap": {},
     "title": ""
    }
   },
   "outputs": [],
   "source": [
    "import requests\n",
    "import pandas as pd\n",
    "import requests\n",
    "import os\n",
    "os.chdir(\"/Users/apple/Desktop/DEV/portfolio/crypto-app\")\n"
   ]
  },
  {
   "cell_type": "code",
   "execution_count": 37,
   "metadata": {},
   "outputs": [
    {
     "data": {
      "text/plain": [
       "True"
      ]
     },
     "execution_count": 37,
     "metadata": {},
     "output_type": "execute_result"
    }
   ],
   "source": [
    "from dotenv import load_dotenv\n",
    "import os\n",
    "\n",
    "load_dotenv()\n"
   ]
  },
  {
   "cell_type": "code",
   "execution_count": 38,
   "metadata": {
    "application/vnd.databricks.v1+cell": {
     "cellMetadata": {
      "byteLimit": 2048000,
      "rowLimit": 10000
     },
     "inputWidgets": {},
     "nuid": "ca7f07ee-3aa7-4221-8dd6-e58fbedbeffa",
     "showTitle": false,
     "tableResultSettingsMap": {},
     "title": ""
    }
   },
   "outputs": [],
   "source": [
    "coins=[\"bitcoin\",\"ethereum\",\"solana\"]\n",
    "\n",
    "url=\"https://api.coingecko.com/api/v3/coins/markets\"\n",
    "params={\n",
    "    \"vs_currency\": \"usd\",\n",
    "    \"ids\":\",\".join(coins),\n",
    "    \"price_change_percentage\":\"1h,24h,7d,30d\"\n",
    "}\n",
    "headers={\n",
    "    \"accept\": \"application/json\",\n",
    "    \"x-cg-demo-api-key\": os.getenv(\"COINGECKO_API_KEY\")\n",
    "}"
   ]
  },
  {
   "cell_type": "code",
   "execution_count": 39,
   "metadata": {},
   "outputs": [],
   "source": [
    "import requests\n",
    "import pandas as pd\n",
    "import json\n",
    "from datetime import datetime\n",
    "import os\n",
    "\n",
    "def get_crypto_data(vs_currency=\"usd\", coin_list=[\"bitcoin\", \"ethereum\", \"solana\"], save_raw=True):\n",
    "    url = \"https://api.coingecko.com/api/v3/coins/markets\"\n",
    "    \n",
    "    params = {\n",
    "        \"vs_currency\": vs_currency,\n",
    "        \"ids\": \",\".join(coin_list)\n",
    "    }\n",
    "    \n",
    "    response = requests.get(url, params=params)\n",
    "    response.raise_for_status()\n",
    "    data = response.json()\n",
    "    \n",
    "    # --- Bronze layer: save raw JSON in ./data/bronze/ ---\n",
    "    if save_raw:\n",
    "        base_dir = os.path.join(os.getcwd(), \"data\", \"bronze\", \"coingecko\")\n",
    "        os.makedirs(base_dir, exist_ok=True)\n",
    "        \n",
    "        timestamp = datetime.utcnow().strftime(\"%Y-%m-%dT%H-%M-%S\")\n",
    "        file_path = os.path.join(base_dir, f\"markets_{timestamp}.json\")\n",
    "        \n",
    "        with open(file_path, \"w\") as f:\n",
    "            json.dump(data, f, indent=2)\n",
    "        \n",
    "        print(f\"✅ Raw JSON saved to {file_path}\")\n",
    "    \n",
    "    # --- Silver layer: return as DataFrame ---\n",
    "    df = pd.DataFrame(data)\n",
    "    return df\n"
   ]
  },
  {
   "cell_type": "code",
   "execution_count": 40,
   "metadata": {},
   "outputs": [
    {
     "name": "stdout",
     "output_type": "stream",
     "text": [
      "✅ Raw JSON saved to /Users/apple/Desktop/DEV/PORTFOLIO/crypto-app/data/bronze/coingecko/markets_2025-09-03T21-41-25.json\n"
     ]
    },
    {
     "data": {
      "text/html": [
       "<div>\n",
       "<style scoped>\n",
       "    .dataframe tbody tr th:only-of-type {\n",
       "        vertical-align: middle;\n",
       "    }\n",
       "\n",
       "    .dataframe tbody tr th {\n",
       "        vertical-align: top;\n",
       "    }\n",
       "\n",
       "    .dataframe thead th {\n",
       "        text-align: right;\n",
       "    }\n",
       "</style>\n",
       "<table border=\"1\" class=\"dataframe\">\n",
       "  <thead>\n",
       "    <tr style=\"text-align: right;\">\n",
       "      <th></th>\n",
       "      <th>id</th>\n",
       "      <th>symbol</th>\n",
       "      <th>name</th>\n",
       "      <th>image</th>\n",
       "      <th>current_price</th>\n",
       "      <th>market_cap</th>\n",
       "      <th>market_cap_rank</th>\n",
       "      <th>fully_diluted_valuation</th>\n",
       "      <th>total_volume</th>\n",
       "      <th>high_24h</th>\n",
       "      <th>...</th>\n",
       "      <th>total_supply</th>\n",
       "      <th>max_supply</th>\n",
       "      <th>ath</th>\n",
       "      <th>ath_change_percentage</th>\n",
       "      <th>ath_date</th>\n",
       "      <th>atl</th>\n",
       "      <th>atl_change_percentage</th>\n",
       "      <th>atl_date</th>\n",
       "      <th>roi</th>\n",
       "      <th>last_updated</th>\n",
       "    </tr>\n",
       "  </thead>\n",
       "  <tbody>\n",
       "    <tr>\n",
       "      <th>0</th>\n",
       "      <td>bitcoin</td>\n",
       "      <td>btc</td>\n",
       "      <td>Bitcoin</td>\n",
       "      <td>https://coin-images.coingecko.com/coins/images...</td>\n",
       "      <td>111907.00</td>\n",
       "      <td>2228854468531</td>\n",
       "      <td>1</td>\n",
       "      <td>2228854468531</td>\n",
       "      <td>36789338128</td>\n",
       "      <td>112502.00</td>\n",
       "      <td>...</td>\n",
       "      <td>1.991536e+07</td>\n",
       "      <td>21000000.0</td>\n",
       "      <td>124128.00</td>\n",
       "      <td>-9.83797</td>\n",
       "      <td>2025-08-14T00:37:02.582Z</td>\n",
       "      <td>67.810000</td>\n",
       "      <td>1.649465e+05</td>\n",
       "      <td>2013-07-06T00:00:00.000Z</td>\n",
       "      <td>None</td>\n",
       "      <td>2025-09-03T21:41:01.440Z</td>\n",
       "    </tr>\n",
       "    <tr>\n",
       "      <th>1</th>\n",
       "      <td>ethereum</td>\n",
       "      <td>eth</td>\n",
       "      <td>Ethereum</td>\n",
       "      <td>https://coin-images.coingecko.com/coins/images...</td>\n",
       "      <td>4460.87</td>\n",
       "      <td>538804792549</td>\n",
       "      <td>2</td>\n",
       "      <td>538804792549</td>\n",
       "      <td>29881352402</td>\n",
       "      <td>4486.12</td>\n",
       "      <td>...</td>\n",
       "      <td>1.207054e+08</td>\n",
       "      <td>NaN</td>\n",
       "      <td>4946.05</td>\n",
       "      <td>-9.79726</td>\n",
       "      <td>2025-08-24T19:21:03.333Z</td>\n",
       "      <td>0.432979</td>\n",
       "      <td>1.030313e+06</td>\n",
       "      <td>2015-10-20T00:00:00.000Z</td>\n",
       "      <td>{'times': 52.295512345227664, 'currency': 'btc...</td>\n",
       "      <td>2025-09-03T21:41:02.600Z</td>\n",
       "    </tr>\n",
       "    <tr>\n",
       "      <th>2</th>\n",
       "      <td>solana</td>\n",
       "      <td>sol</td>\n",
       "      <td>Solana</td>\n",
       "      <td>https://coin-images.coingecko.com/coins/images...</td>\n",
       "      <td>208.73</td>\n",
       "      <td>113014896030</td>\n",
       "      <td>6</td>\n",
       "      <td>127190541730</td>\n",
       "      <td>7435949609</td>\n",
       "      <td>212.41</td>\n",
       "      <td>...</td>\n",
       "      <td>6.089000e+08</td>\n",
       "      <td>NaN</td>\n",
       "      <td>293.31</td>\n",
       "      <td>-28.67399</td>\n",
       "      <td>2025-01-19T11:15:27.957Z</td>\n",
       "      <td>0.500801</td>\n",
       "      <td>4.167460e+04</td>\n",
       "      <td>2020-05-11T19:35:23.449Z</td>\n",
       "      <td>None</td>\n",
       "      <td>2025-09-03T21:41:05.309Z</td>\n",
       "    </tr>\n",
       "  </tbody>\n",
       "</table>\n",
       "<p>3 rows × 26 columns</p>\n",
       "</div>"
      ],
      "text/plain": [
       "         id symbol      name  \\\n",
       "0   bitcoin    btc   Bitcoin   \n",
       "1  ethereum    eth  Ethereum   \n",
       "2    solana    sol    Solana   \n",
       "\n",
       "                                               image  current_price  \\\n",
       "0  https://coin-images.coingecko.com/coins/images...      111907.00   \n",
       "1  https://coin-images.coingecko.com/coins/images...        4460.87   \n",
       "2  https://coin-images.coingecko.com/coins/images...         208.73   \n",
       "\n",
       "      market_cap  market_cap_rank  fully_diluted_valuation  total_volume  \\\n",
       "0  2228854468531                1            2228854468531   36789338128   \n",
       "1   538804792549                2             538804792549   29881352402   \n",
       "2   113014896030                6             127190541730    7435949609   \n",
       "\n",
       "    high_24h  ...  total_supply  max_supply        ath  ath_change_percentage  \\\n",
       "0  112502.00  ...  1.991536e+07  21000000.0  124128.00               -9.83797   \n",
       "1    4486.12  ...  1.207054e+08         NaN    4946.05               -9.79726   \n",
       "2     212.41  ...  6.089000e+08         NaN     293.31              -28.67399   \n",
       "\n",
       "                   ath_date        atl  atl_change_percentage  \\\n",
       "0  2025-08-14T00:37:02.582Z  67.810000           1.649465e+05   \n",
       "1  2025-08-24T19:21:03.333Z   0.432979           1.030313e+06   \n",
       "2  2025-01-19T11:15:27.957Z   0.500801           4.167460e+04   \n",
       "\n",
       "                   atl_date  \\\n",
       "0  2013-07-06T00:00:00.000Z   \n",
       "1  2015-10-20T00:00:00.000Z   \n",
       "2  2020-05-11T19:35:23.449Z   \n",
       "\n",
       "                                                 roi              last_updated  \n",
       "0                                               None  2025-09-03T21:41:01.440Z  \n",
       "1  {'times': 52.295512345227664, 'currency': 'btc...  2025-09-03T21:41:02.600Z  \n",
       "2                                               None  2025-09-03T21:41:05.309Z  \n",
       "\n",
       "[3 rows x 26 columns]"
      ]
     },
     "execution_count": 40,
     "metadata": {},
     "output_type": "execute_result"
    }
   ],
   "source": [
    "coingecko_raw_df = get_crypto_data()\n",
    "coingecko_raw_df\n"
   ]
  },
  {
   "cell_type": "code",
   "execution_count": 31,
   "metadata": {},
   "outputs": [
    {
     "name": "stdout",
     "output_type": "stream",
     "text": [
      "<class 'pandas.core.frame.DataFrame'>\n",
      "RangeIndex: 3 entries, 0 to 2\n",
      "Data columns (total 26 columns):\n",
      " #   Column                            Non-Null Count  Dtype  \n",
      "---  ------                            --------------  -----  \n",
      " 0   id                                3 non-null      object \n",
      " 1   symbol                            3 non-null      object \n",
      " 2   name                              3 non-null      object \n",
      " 3   image                             3 non-null      object \n",
      " 4   current_price                     3 non-null      float64\n",
      " 5   market_cap                        3 non-null      int64  \n",
      " 6   market_cap_rank                   3 non-null      int64  \n",
      " 7   fully_diluted_valuation           3 non-null      int64  \n",
      " 8   total_volume                      3 non-null      int64  \n",
      " 9   high_24h                          3 non-null      float64\n",
      " 10  low_24h                           3 non-null      float64\n",
      " 11  price_change_24h                  3 non-null      float64\n",
      " 12  price_change_percentage_24h       3 non-null      float64\n",
      " 13  market_cap_change_24h             3 non-null      int64  \n",
      " 14  market_cap_change_percentage_24h  3 non-null      float64\n",
      " 15  circulating_supply                3 non-null      float64\n",
      " 16  total_supply                      3 non-null      float64\n",
      " 17  max_supply                        1 non-null      float64\n",
      " 18  ath                               3 non-null      float64\n",
      " 19  ath_change_percentage             3 non-null      float64\n",
      " 20  ath_date                          3 non-null      object \n",
      " 21  atl                               3 non-null      float64\n",
      " 22  atl_change_percentage             3 non-null      float64\n",
      " 23  atl_date                          3 non-null      object \n",
      " 24  roi                               1 non-null      object \n",
      " 25  last_updated                      3 non-null      object \n",
      "dtypes: float64(13), int64(5), object(8)\n",
      "memory usage: 752.0+ bytes\n"
     ]
    }
   ],
   "source": [
    "coingecko_raw_df.info()"
   ]
  },
  {
   "cell_type": "code",
   "execution_count": 27,
   "metadata": {},
   "outputs": [],
   "source": [
    "def enforce_schema(df):\n",
    "    schema = {\n",
    "        \"id\": \"string\",\n",
    "        \"symbol\": \"string\",\n",
    "        \"name\": \"string\",\n",
    "        \"image\": \"string\",\n",
    "        \"current_price\": \"float64\",\n",
    "        \"market_cap\": \"Int64\",   # nullable int\n",
    "        \"market_cap_rank\": \"Int64\",\n",
    "        \"fully_diluted_valuation\": \"Int64\",\n",
    "        \"total_volume\": \"Int64\",\n",
    "        \"high_24h\": \"float64\",\n",
    "        \"low_24h\": \"float64\",\n",
    "        \"price_change_24h\": \"float64\",\n",
    "        \"price_change_percentage_24h\": \"float64\",\n",
    "        \"market_cap_change_24h\": \"Int64\",\n",
    "        \"market_cap_change_percentage_24h\": \"float64\",\n",
    "        \"circulating_supply\": \"float64\",\n",
    "        \"total_supply\": \"float64\",\n",
    "        \"max_supply\": \"float64\",\n",
    "        \"ath\": \"float64\",\n",
    "        \"ath_change_percentage\": \"float64\",\n",
    "        \"last_updated\": \"datetime64[ns]\"\n",
    "    }\n",
    "\n",
    "    # apply schema selectively (ignore cols not in dict)\n",
    "    for col, dtype in schema.items():\n",
    "        if col in df.columns:\n",
    "            if dtype.startswith(\"datetime\"):\n",
    "                df[col] = pd.to_datetime(df[col], errors=\"coerce\")\n",
    "            else:\n",
    "                df[col] = df[col].astype(dtype, errors=\"ignore\")\n",
    "    return df\n"
   ]
  },
  {
   "cell_type": "code",
   "execution_count": 32,
   "metadata": {},
   "outputs": [
    {
     "name": "stdout",
     "output_type": "stream",
     "text": [
      "id                                       string[python]\n",
      "symbol                                   string[python]\n",
      "name                                     string[python]\n",
      "image                                    string[python]\n",
      "current_price                                   float64\n",
      "market_cap                                        Int64\n",
      "market_cap_rank                                   Int64\n",
      "fully_diluted_valuation                           Int64\n",
      "total_volume                                      Int64\n",
      "high_24h                                        float64\n",
      "low_24h                                         float64\n",
      "price_change_24h                                float64\n",
      "price_change_percentage_24h                     float64\n",
      "market_cap_change_24h                             Int64\n",
      "market_cap_change_percentage_24h                float64\n",
      "circulating_supply                              float64\n",
      "total_supply                                    float64\n",
      "max_supply                                      float64\n",
      "ath                                             float64\n",
      "ath_change_percentage                           float64\n",
      "ath_date                                         object\n",
      "atl                                             float64\n",
      "atl_change_percentage                           float64\n",
      "atl_date                                         object\n",
      "roi                                              object\n",
      "last_updated                        datetime64[ns, UTC]\n",
      "dtype: object\n"
     ]
    }
   ],
   "source": [
    "silver_coingecko_df = enforce_schema(coingecko_raw_df)\n",
    "print(silver_coingecko_df.dtypes)\n"
   ]
  },
  {
   "cell_type": "code",
   "execution_count": 33,
   "metadata": {
    "application/vnd.databricks.v1+cell": {
     "cellMetadata": {
      "byteLimit": 2048000,
      "rowLimit": 10000
     },
     "inputWidgets": {},
     "nuid": "82d72a0f-abca-4aae-a4e5-484d7a8066f9",
     "showTitle": false,
     "tableResultSettingsMap": {},
     "title": ""
    }
   },
   "outputs": [
    {
     "name": "stdout",
     "output_type": "stream",
     "text": [
      "<class 'pandas.core.frame.DataFrame'>\n",
      "RangeIndex: 3 entries, 0 to 2\n",
      "Data columns (total 26 columns):\n",
      " #   Column                            Non-Null Count  Dtype              \n",
      "---  ------                            --------------  -----              \n",
      " 0   id                                3 non-null      string             \n",
      " 1   symbol                            3 non-null      string             \n",
      " 2   name                              3 non-null      string             \n",
      " 3   image                             3 non-null      string             \n",
      " 4   current_price                     3 non-null      float64            \n",
      " 5   market_cap                        3 non-null      Int64              \n",
      " 6   market_cap_rank                   3 non-null      Int64              \n",
      " 7   fully_diluted_valuation           3 non-null      Int64              \n",
      " 8   total_volume                      3 non-null      Int64              \n",
      " 9   high_24h                          3 non-null      float64            \n",
      " 10  low_24h                           3 non-null      float64            \n",
      " 11  price_change_24h                  3 non-null      float64            \n",
      " 12  price_change_percentage_24h       3 non-null      float64            \n",
      " 13  market_cap_change_24h             3 non-null      Int64              \n",
      " 14  market_cap_change_percentage_24h  3 non-null      float64            \n",
      " 15  circulating_supply                3 non-null      float64            \n",
      " 16  total_supply                      3 non-null      float64            \n",
      " 17  max_supply                        1 non-null      float64            \n",
      " 18  ath                               3 non-null      float64            \n",
      " 19  ath_change_percentage             3 non-null      float64            \n",
      " 20  ath_date                          3 non-null      object             \n",
      " 21  atl                               3 non-null      float64            \n",
      " 22  atl_change_percentage             3 non-null      float64            \n",
      " 23  atl_date                          3 non-null      object             \n",
      " 24  roi                               1 non-null      object             \n",
      " 25  last_updated                      3 non-null      datetime64[ns, UTC]\n",
      "dtypes: Int64(5), datetime64[ns, UTC](1), float64(13), object(3), string(4)\n",
      "memory usage: 767.0+ bytes\n"
     ]
    }
   ],
   "source": [
    "silver_coingecko_df.info()"
   ]
  },
  {
   "cell_type": "code",
   "execution_count": null,
   "metadata": {},
   "outputs": [],
   "source": [
    "DB_USERNAME = os.getenv('DB_USERNAME', 'postgres')\n",
    "DB_PASSWORD = os.getenv('DB_PASSWORD')\n",
    "DB_HOST = os.getenv('DB_HOST', 'localhost')\n",
    "DB_PORT = os.getenv('DB_PORT', '5432')\n",
    "DB_NAME = os.getenv('DB_NAME', 'ben')"
   ]
  },
  {
   "cell_type": "code",
   "execution_count": 0,
   "metadata": {
    "application/vnd.databricks.v1+cell": {
     "cellMetadata": {
      "byteLimit": 2048000,
      "implicitDf": true,
      "rowLimit": 10000
     },
     "inputWidgets": {},
     "nuid": "5341467c-eaa6-46f9-8897-632c0feaca47",
     "showTitle": false,
     "tableResultSettingsMap": {},
     "title": ""
    }
   },
   "outputs": [
    {
     "data": {
      "text/plain": []
     },
     "metadata": {
      "application/vnd.databricks.v1+output": {
       "addedWidgets": {},
       "arguments": {},
       "datasetInfos": [],
       "jupyterProps": null,
       "metadata": {
        "errorSummary": "Command skipped"
       },
       "removedWidgets": [],
       "sqlProps": null,
       "stackFrames": [],
       "type": "baseError"
      }
     },
     "output_type": "display_data"
    }
   ],
   "source": [
    "%sql\n",
    "-- DROP TABLE IF EXISTS raw.coingecko_markets_bronze"
   ]
  },
  {
   "cell_type": "code",
   "execution_count": 0,
   "metadata": {
    "application/vnd.databricks.v1+cell": {
     "cellMetadata": {
      "byteLimit": 2048000,
      "implicitDf": true,
      "rowLimit": 10000
     },
     "inputWidgets": {},
     "nuid": "7a70e4f1-348e-4232-8bfe-bfb07fcb1728",
     "showTitle": false,
     "tableResultSettingsMap": {},
     "title": ""
    }
   },
   "outputs": [
    {
     "data": {
      "text/plain": []
     },
     "metadata": {
      "application/vnd.databricks.v1+output": {
       "addedWidgets": {},
       "arguments": {},
       "datasetInfos": [],
       "jupyterProps": null,
       "metadata": {
        "errorSummary": "Command skipped"
       },
       "removedWidgets": [],
       "sqlProps": null,
       "stackFrames": [],
       "type": "baseError"
      }
     },
     "output_type": "display_data"
    }
   ],
   "source": [
    "%sql\n",
    "SELECT * FROM bronze_coingecko"
   ]
  },
  {
   "cell_type": "code",
   "execution_count": 0,
   "metadata": {
    "application/vnd.databricks.v1+cell": {
     "cellMetadata": {
      "byteLimit": 2048000,
      "implicitDf": true,
      "rowLimit": 10000
     },
     "inputWidgets": {},
     "nuid": "4306c290-ec95-488f-b456-5e31c2989fb8",
     "showTitle": false,
     "tableResultSettingsMap": {},
     "title": ""
    }
   },
   "outputs": [
    {
     "data": {
      "text/plain": []
     },
     "metadata": {
      "application/vnd.databricks.v1+output": {
       "addedWidgets": {},
       "arguments": {},
       "datasetInfos": [],
       "jupyterProps": null,
       "metadata": {
        "errorSummary": "Command skipped"
       },
       "removedWidgets": [],
       "sqlProps": null,
       "stackFrames": [],
       "type": "baseError"
      }
     },
     "output_type": "display_data"
    }
   ],
   "source": [
    "%sql\n",
    "CREATE OR REPLACE VIEW silver_coingecko AS\n",
    "SELECT cg.id,cg.symbol,cg.name,cg.image,\n",
    "        CAST(cg.current_price AS DOUBLE) current_price,\n",
    "        CAST(cg.market_cap AS DOUBLE) market_cap,\n",
    "        CAST(cg.market_cap_rank AS INT) market_cap_rank,\n",
    "        CAST(cg.price_change_percentage_24h AS DOUBLE) price_change_percentage_24h,\n",
    "        CAST(cg.market_cap_change_percentage_24h AS DOUBLE) market_cap_change_percentage_24h,\n",
    "        CAST(cg.circulating_supply AS DOUBLE) circulating_supply,\n",
    "        CAST(cg.ath AS DOUBLE) ath,\n",
    "        CAST(cg.ath_change_percentage AS DOUBLE) ath_change_percentage,\n",
    "        CAST(cg.ath_date AS TIMESTAMP) ath_date,\n",
    "        CAST(cg.atl AS DOUBLE) atl,\n",
    "        CAST(cg.atl_change_percentage AS DOUBLE) atl_change_percentage,\n",
    "        CAST(cg.atl_date AS TIMESTAMP) atl_date\n",
    "FROM bronze_coingecko cg"
   ]
  },
  {
   "cell_type": "code",
   "execution_count": 0,
   "metadata": {
    "application/vnd.databricks.v1+cell": {
     "cellMetadata": {
      "byteLimit": 2048000,
      "implicitDf": true,
      "rowLimit": 10000
     },
     "inputWidgets": {},
     "nuid": "676a6662-07b1-436c-86fa-a76178b4fa5d",
     "showTitle": false,
     "tableResultSettingsMap": {},
     "title": ""
    }
   },
   "outputs": [
    {
     "data": {
      "text/plain": []
     },
     "metadata": {
      "application/vnd.databricks.v1+output": {
       "addedWidgets": {},
       "arguments": {},
       "datasetInfos": [],
       "jupyterProps": null,
       "metadata": {
        "errorSummary": "Command skipped"
       },
       "removedWidgets": [],
       "sqlProps": null,
       "stackFrames": [],
       "type": "baseError"
      }
     },
     "output_type": "display_data"
    }
   ],
   "source": [
    "%sql\n",
    "SELECT * FROM silver_coingecko"
   ]
  },
  {
   "cell_type": "code",
   "execution_count": 0,
   "metadata": {
    "application/vnd.databricks.v1+cell": {
     "cellMetadata": {
      "byteLimit": 2048000,
      "implicitDf": true,
      "rowLimit": 10000
     },
     "inputWidgets": {},
     "nuid": "f97c777b-fd28-41ae-b4b0-d992dbc86f23",
     "showTitle": false,
     "tableResultSettingsMap": {},
     "title": ""
    }
   },
   "outputs": [
    {
     "data": {
      "text/plain": []
     },
     "metadata": {
      "application/vnd.databricks.v1+output": {
       "addedWidgets": {},
       "arguments": {},
       "datasetInfos": [],
       "jupyterProps": null,
       "metadata": {
        "errorSummary": "Command skipped"
       },
       "removedWidgets": [],
       "sqlProps": null,
       "stackFrames": [],
       "type": "baseError"
      }
     },
     "output_type": "display_data"
    }
   ],
   "source": [
    "%sql\n",
    "select * from silver_coindesk_data"
   ]
  },
  {
   "cell_type": "code",
   "execution_count": 0,
   "metadata": {
    "application/vnd.databricks.v1+cell": {
     "cellMetadata": {
      "byteLimit": 2048000,
      "implicitDf": true,
      "rowLimit": 10000
     },
     "inputWidgets": {},
     "nuid": "37a8e81a-e4f7-407d-a634-4853ab5ac96e",
     "showTitle": false,
     "tableResultSettingsMap": {},
     "title": ""
    }
   },
   "outputs": [
    {
     "data": {
      "text/plain": []
     },
     "metadata": {
      "application/vnd.databricks.v1+output": {
       "addedWidgets": {},
       "arguments": {},
       "datasetInfos": [],
       "jupyterProps": null,
       "metadata": {
        "errorSummary": "Command skipped"
       },
       "removedWidgets": [],
       "sqlProps": null,
       "stackFrames": [],
       "type": "baseError"
      }
     },
     "output_type": "display_data"
    }
   ],
   "source": [
    "  "
   ]
  },
  {
   "cell_type": "code",
   "execution_count": 0,
   "metadata": {
    "application/vnd.databricks.v1+cell": {
     "cellMetadata": {
      "byteLimit": 2048000,
      "implicitDf": true,
      "rowLimit": 10000
     },
     "inputWidgets": {},
     "nuid": "6d00347a-c26a-4695-be28-f0418923523c",
     "showTitle": false,
     "tableResultSettingsMap": {},
     "title": ""
    }
   },
   "outputs": [
    {
     "data": {
      "text/plain": []
     },
     "metadata": {
      "application/vnd.databricks.v1+output": {
       "addedWidgets": {},
       "arguments": {},
       "datasetInfos": [],
       "jupyterProps": null,
       "metadata": {
        "errorSummary": "Command skipped"
       },
       "removedWidgets": [],
       "sqlProps": null,
       "stackFrames": [],
       "type": "baseError"
      }
     },
     "output_type": "display_data"
    }
   ],
   "source": [
    "%sql\n",
    "WITH cte AS (\n",
    "  SELECT\n",
    "    cg.symbol,\n",
    "    MAX(cd.current_price) AS current_price,\n",
    "    MAX(ROUND(cd.day_high, 2)) AS day_high,\n",
    "    MAX(ROUND(cd.day_low, 2))  AS day_low\n",
    "  FROM raw.silver_coingecko_data cg\n",
    "  LEFT JOIN silver_coindesk_data cd\n",
    "    ON cg.symbol = cd.symbol\n",
    "  GROUP BY cg.symbol\n",
    "),\n",
    "\n",
    "volatility_calc AS (\n",
    "  SELECT\n",
    "    symbol,\n",
    "    ROUND(STDDEV(current_price), 2) AS volatility\n",
    "  FROM silver_coindesk_data\n",
    "  GROUP BY symbol\n",
    ")\n",
    "\n",
    "SELECT\n",
    "  cte.symbol,\n",
    "  cte.current_price,\n",
    "  cte.day_high,\n",
    "  cte.day_low,\n",
    "  vc.volatility\n",
    "FROM cte\n",
    "LEFT JOIN volatility_calc vc ON cte.symbol = vc.symbol;\n"
   ]
  },
  {
   "cell_type": "code",
   "execution_count": 0,
   "metadata": {
    "application/vnd.databricks.v1+cell": {
     "cellMetadata": {
      "byteLimit": 2048000,
      "implicitDf": true,
      "rowLimit": 10000
     },
     "inputWidgets": {},
     "nuid": "e3e97e1b-c202-4290-9691-1b0ca3ed0cf2",
     "showTitle": false,
     "tableResultSettingsMap": {},
     "title": ""
    }
   },
   "outputs": [
    {
     "data": {
      "text/plain": []
     },
     "metadata": {
      "application/vnd.databricks.v1+output": {
       "addedWidgets": {},
       "arguments": {},
       "datasetInfos": [],
       "jupyterProps": null,
       "metadata": {
        "errorSummary": "Command skipped"
       },
       "removedWidgets": [],
       "sqlProps": null,
       "stackFrames": [],
       "type": "baseError"
      }
     },
     "output_type": "display_data"
    }
   ],
   "source": [
    "  %sql\n",
    "WITH cg_hour AS (\n",
    "  SELECT\n",
    "      UPPER(symbol)                              AS symbol,\n",
    "      date_trunc('hour', last_updated)           AS ts_hour,\n",
    "      current_price,\n",
    "      market_cap\n",
    "      -- … other CG fields\n",
    "  FROM raw.silver_coingecko_data\n",
    "),\n",
    "\n",
    "cd_hour AS (\n",
    "  SELECT\n",
    "      UPPER(symbol)                              AS symbol,\n",
    "      to_timestamp(hour_timestamp)               AS ts_hour,\n",
    "      current_price        AS current_price_cd,\n",
    "      day_high             AS high_24h,\n",
    "      day_low              AS low_24h\n",
    "  FROM silver_coindesk\n",
    ")\n",
    "\n",
    "SELECT *\n",
    "FROM cg_hour cg\n",
    "JOIN cd_hour cd\n",
    "  USING (symbol);\n"
   ]
  },
  {
   "cell_type": "code",
   "execution_count": 0,
   "metadata": {
    "application/vnd.databricks.v1+cell": {
     "cellMetadata": {
      "byteLimit": 2048000,
      "rowLimit": 10000
     },
     "inputWidgets": {},
     "nuid": "12258cae-0c69-4882-a689-5962d02215d0",
     "showTitle": false,
     "tableResultSettingsMap": {},
     "title": ""
    }
   },
   "outputs": [
    {
     "name": "stdout",
     "output_type": "stream",
     "text": [
      "root\n",
      " |-- key: binary (nullable = true)\n",
      " |-- value: binary (nullable = true)\n",
      " |-- topic: string (nullable = true)\n",
      " |-- partition: integer (nullable = true)\n",
      " |-- offset: long (nullable = true)\n",
      " |-- timestamp: timestamp (nullable = true)\n",
      " |-- timestampType: integer (nullable = true)\n",
      "\n"
     ]
    }
   ],
   "source": [
    "df = (\n",
    "    spark.readStream\n",
    "    .format(\"kafka\")\n",
    "    .option(\"kafka.bootstrap.servers\", \"localhost:9092\")\n",
    "    .option(\"subscribe\", \"test-topic\")\n",
    "    .load()\n",
    ")\n",
    "\n",
    "df.printSchema()\n"
   ]
  },
  {
   "cell_type": "code",
   "execution_count": 0,
   "metadata": {
    "application/vnd.databricks.v1+cell": {
     "cellMetadata": {
      "byteLimit": 2048000,
      "rowLimit": 10000
     },
     "inputWidgets": {},
     "nuid": "62b4d5f6-330f-4529-8f22-94c988880a38",
     "showTitle": false,
     "tableResultSettingsMap": {},
     "title": ""
    }
   },
   "outputs": [
    {
     "data": {
      "text/plain": [
       "\u001b[0;31m---------------------------------------------------------------------------\u001b[0m\n",
       "\u001b[0;31mNoBrokersAvailable\u001b[0m                        Traceback (most recent call last)\n",
       "File \u001b[0;32m<command-7044717791728054>, line 3\u001b[0m\n",
       "\u001b[1;32m      1\u001b[0m \u001b[38;5;28;01mfrom\u001b[39;00m \u001b[38;5;21;01mkafka\u001b[39;00m \u001b[38;5;28;01mimport\u001b[39;00m KafkaProducer\n",
       "\u001b[0;32m----> 3\u001b[0m producer \u001b[38;5;241m=\u001b[39m KafkaProducer(bootstrap_servers\u001b[38;5;241m=\u001b[39m\u001b[38;5;124m'\u001b[39m\u001b[38;5;124mlocalhost:9092\u001b[39m\u001b[38;5;124m'\u001b[39m)\n",
       "\u001b[1;32m      5\u001b[0m \u001b[38;5;28;01mfor\u001b[39;00m i \u001b[38;5;129;01min\u001b[39;00m \u001b[38;5;28mrange\u001b[39m(\u001b[38;5;241m10\u001b[39m):\n",
       "\u001b[1;32m      6\u001b[0m     msg \u001b[38;5;241m=\u001b[39m \u001b[38;5;124mf\u001b[39m\u001b[38;5;124m\"\u001b[39m\u001b[38;5;124mMessage \u001b[39m\u001b[38;5;132;01m{\u001b[39;00mi\u001b[38;5;132;01m}\u001b[39;00m\u001b[38;5;124m\"\u001b[39m\n",
       "\n",
       "File \u001b[0;32m/local_disk0/.ephemeral_nfs/envs/pythonEnv-d26eb304-58c2-4826-bf75-c8d00d6114b3/lib/python3.11/site-packages/kafka/producer/kafka.py:481\u001b[0m, in \u001b[0;36mKafkaProducer.__init__\u001b[0;34m(self, **configs)\u001b[0m\n",
       "\u001b[1;32m    478\u001b[0m \u001b[38;5;28;01melse\u001b[39;00m:\n",
       "\u001b[1;32m    479\u001b[0m     \u001b[38;5;28mself\u001b[39m\u001b[38;5;241m.\u001b[39m_metrics \u001b[38;5;241m=\u001b[39m \u001b[38;5;28;01mNone\u001b[39;00m\n",
       "\u001b[0;32m--> 481\u001b[0m client \u001b[38;5;241m=\u001b[39m \u001b[38;5;28mself\u001b[39m\u001b[38;5;241m.\u001b[39mconfig[\u001b[38;5;124m'\u001b[39m\u001b[38;5;124mkafka_client\u001b[39m\u001b[38;5;124m'\u001b[39m](\n",
       "\u001b[1;32m    482\u001b[0m     metrics\u001b[38;5;241m=\u001b[39m\u001b[38;5;28mself\u001b[39m\u001b[38;5;241m.\u001b[39m_metrics, metric_group_prefix\u001b[38;5;241m=\u001b[39m\u001b[38;5;124m'\u001b[39m\u001b[38;5;124mproducer\u001b[39m\u001b[38;5;124m'\u001b[39m,\n",
       "\u001b[1;32m    483\u001b[0m     wakeup_timeout_ms\u001b[38;5;241m=\u001b[39m\u001b[38;5;28mself\u001b[39m\u001b[38;5;241m.\u001b[39mconfig[\u001b[38;5;124m'\u001b[39m\u001b[38;5;124mmax_block_ms\u001b[39m\u001b[38;5;124m'\u001b[39m],\n",
       "\u001b[1;32m    484\u001b[0m     \u001b[38;5;241m*\u001b[39m\u001b[38;5;241m*\u001b[39m\u001b[38;5;28mself\u001b[39m\u001b[38;5;241m.\u001b[39mconfig)\n",
       "\u001b[1;32m    486\u001b[0m \u001b[38;5;66;03m# Get auto-discovered / normalized version from client\u001b[39;00m\n",
       "\u001b[1;32m    487\u001b[0m \u001b[38;5;28mself\u001b[39m\u001b[38;5;241m.\u001b[39mconfig[\u001b[38;5;124m'\u001b[39m\u001b[38;5;124mapi_version\u001b[39m\u001b[38;5;124m'\u001b[39m] \u001b[38;5;241m=\u001b[39m client\u001b[38;5;241m.\u001b[39mconfig[\u001b[38;5;124m'\u001b[39m\u001b[38;5;124mapi_version\u001b[39m\u001b[38;5;124m'\u001b[39m]\n",
       "\n",
       "File \u001b[0;32m/local_disk0/.ephemeral_nfs/envs/pythonEnv-d26eb304-58c2-4826-bf75-c8d00d6114b3/lib/python3.11/site-packages/kafka/client_async.py:262\u001b[0m, in \u001b[0;36mKafkaClient.__init__\u001b[0;34m(self, **configs)\u001b[0m\n",
       "\u001b[1;32m    260\u001b[0m \u001b[38;5;66;03m# Check Broker Version if not set explicitly\u001b[39;00m\n",
       "\u001b[1;32m    261\u001b[0m \u001b[38;5;28;01mif\u001b[39;00m \u001b[38;5;28mself\u001b[39m\u001b[38;5;241m.\u001b[39mconfig[\u001b[38;5;124m'\u001b[39m\u001b[38;5;124mapi_version\u001b[39m\u001b[38;5;124m'\u001b[39m] \u001b[38;5;129;01mis\u001b[39;00m \u001b[38;5;28;01mNone\u001b[39;00m:\n",
       "\u001b[0;32m--> 262\u001b[0m     \u001b[38;5;28mself\u001b[39m\u001b[38;5;241m.\u001b[39mconfig[\u001b[38;5;124m'\u001b[39m\u001b[38;5;124mapi_version\u001b[39m\u001b[38;5;124m'\u001b[39m] \u001b[38;5;241m=\u001b[39m \u001b[38;5;28mself\u001b[39m\u001b[38;5;241m.\u001b[39mcheck_version()\n",
       "\u001b[1;32m    263\u001b[0m \u001b[38;5;28;01melif\u001b[39;00m \u001b[38;5;28mself\u001b[39m\u001b[38;5;241m.\u001b[39mconfig[\u001b[38;5;124m'\u001b[39m\u001b[38;5;124mapi_version\u001b[39m\u001b[38;5;124m'\u001b[39m] \u001b[38;5;129;01min\u001b[39;00m BROKER_API_VERSIONS:\n",
       "\u001b[1;32m    264\u001b[0m     \u001b[38;5;28mself\u001b[39m\u001b[38;5;241m.\u001b[39m_api_versions \u001b[38;5;241m=\u001b[39m BROKER_API_VERSIONS[\u001b[38;5;28mself\u001b[39m\u001b[38;5;241m.\u001b[39mconfig[\u001b[38;5;124m'\u001b[39m\u001b[38;5;124mapi_version\u001b[39m\u001b[38;5;124m'\u001b[39m]]\n",
       "\n",
       "File \u001b[0;32m/local_disk0/.ephemeral_nfs/envs/pythonEnv-d26eb304-58c2-4826-bf75-c8d00d6114b3/lib/python3.11/site-packages/kafka/client_async.py:1074\u001b[0m, in \u001b[0;36mKafkaClient.check_version\u001b[0;34m(self, node_id, timeout, **kwargs)\u001b[0m\n",
       "\u001b[1;32m   1072\u001b[0m     \u001b[38;5;28;01mraise\u001b[39;00m Errors\u001b[38;5;241m.\u001b[39mNodeNotReadyError(node_id)\n",
       "\u001b[1;32m   1073\u001b[0m \u001b[38;5;28;01melse\u001b[39;00m:\n",
       "\u001b[0;32m-> 1074\u001b[0m     \u001b[38;5;28;01mraise\u001b[39;00m Errors\u001b[38;5;241m.\u001b[39mNoBrokersAvailable()\n",
       "\n",
       "\u001b[0;31mNoBrokersAvailable\u001b[0m: NoBrokersAvailable"
      ]
     },
     "metadata": {
      "application/vnd.databricks.v1+output": {
       "addedWidgets": {},
       "arguments": {},
       "datasetInfos": [],
       "jupyterProps": {
        "ename": "NoBrokersAvailable",
        "evalue": "NoBrokersAvailable"
       },
       "metadata": {
        "errorSummary": "<span class='ansi-red-fg'>NoBrokersAvailable</span>: NoBrokersAvailable"
       },
       "removedWidgets": [],
       "sqlProps": null,
       "stackFrames": [
        "\u001b[0;31m---------------------------------------------------------------------------\u001b[0m",
        "\u001b[0;31mNoBrokersAvailable\u001b[0m                        Traceback (most recent call last)",
        "File \u001b[0;32m<command-7044717791728054>, line 3\u001b[0m\n\u001b[1;32m      1\u001b[0m \u001b[38;5;28;01mfrom\u001b[39;00m \u001b[38;5;21;01mkafka\u001b[39;00m \u001b[38;5;28;01mimport\u001b[39;00m KafkaProducer\n\u001b[0;32m----> 3\u001b[0m producer \u001b[38;5;241m=\u001b[39m KafkaProducer(bootstrap_servers\u001b[38;5;241m=\u001b[39m\u001b[38;5;124m'\u001b[39m\u001b[38;5;124mlocalhost:9092\u001b[39m\u001b[38;5;124m'\u001b[39m)\n\u001b[1;32m      5\u001b[0m \u001b[38;5;28;01mfor\u001b[39;00m i \u001b[38;5;129;01min\u001b[39;00m \u001b[38;5;28mrange\u001b[39m(\u001b[38;5;241m10\u001b[39m):\n\u001b[1;32m      6\u001b[0m     msg \u001b[38;5;241m=\u001b[39m \u001b[38;5;124mf\u001b[39m\u001b[38;5;124m\"\u001b[39m\u001b[38;5;124mMessage \u001b[39m\u001b[38;5;132;01m{\u001b[39;00mi\u001b[38;5;132;01m}\u001b[39;00m\u001b[38;5;124m\"\u001b[39m\n",
        "File \u001b[0;32m/local_disk0/.ephemeral_nfs/envs/pythonEnv-d26eb304-58c2-4826-bf75-c8d00d6114b3/lib/python3.11/site-packages/kafka/producer/kafka.py:481\u001b[0m, in \u001b[0;36mKafkaProducer.__init__\u001b[0;34m(self, **configs)\u001b[0m\n\u001b[1;32m    478\u001b[0m \u001b[38;5;28;01melse\u001b[39;00m:\n\u001b[1;32m    479\u001b[0m     \u001b[38;5;28mself\u001b[39m\u001b[38;5;241m.\u001b[39m_metrics \u001b[38;5;241m=\u001b[39m \u001b[38;5;28;01mNone\u001b[39;00m\n\u001b[0;32m--> 481\u001b[0m client \u001b[38;5;241m=\u001b[39m \u001b[38;5;28mself\u001b[39m\u001b[38;5;241m.\u001b[39mconfig[\u001b[38;5;124m'\u001b[39m\u001b[38;5;124mkafka_client\u001b[39m\u001b[38;5;124m'\u001b[39m](\n\u001b[1;32m    482\u001b[0m     metrics\u001b[38;5;241m=\u001b[39m\u001b[38;5;28mself\u001b[39m\u001b[38;5;241m.\u001b[39m_metrics, metric_group_prefix\u001b[38;5;241m=\u001b[39m\u001b[38;5;124m'\u001b[39m\u001b[38;5;124mproducer\u001b[39m\u001b[38;5;124m'\u001b[39m,\n\u001b[1;32m    483\u001b[0m     wakeup_timeout_ms\u001b[38;5;241m=\u001b[39m\u001b[38;5;28mself\u001b[39m\u001b[38;5;241m.\u001b[39mconfig[\u001b[38;5;124m'\u001b[39m\u001b[38;5;124mmax_block_ms\u001b[39m\u001b[38;5;124m'\u001b[39m],\n\u001b[1;32m    484\u001b[0m     \u001b[38;5;241m*\u001b[39m\u001b[38;5;241m*\u001b[39m\u001b[38;5;28mself\u001b[39m\u001b[38;5;241m.\u001b[39mconfig)\n\u001b[1;32m    486\u001b[0m \u001b[38;5;66;03m# Get auto-discovered / normalized version from client\u001b[39;00m\n\u001b[1;32m    487\u001b[0m \u001b[38;5;28mself\u001b[39m\u001b[38;5;241m.\u001b[39mconfig[\u001b[38;5;124m'\u001b[39m\u001b[38;5;124mapi_version\u001b[39m\u001b[38;5;124m'\u001b[39m] \u001b[38;5;241m=\u001b[39m client\u001b[38;5;241m.\u001b[39mconfig[\u001b[38;5;124m'\u001b[39m\u001b[38;5;124mapi_version\u001b[39m\u001b[38;5;124m'\u001b[39m]\n",
        "File \u001b[0;32m/local_disk0/.ephemeral_nfs/envs/pythonEnv-d26eb304-58c2-4826-bf75-c8d00d6114b3/lib/python3.11/site-packages/kafka/client_async.py:262\u001b[0m, in \u001b[0;36mKafkaClient.__init__\u001b[0;34m(self, **configs)\u001b[0m\n\u001b[1;32m    260\u001b[0m \u001b[38;5;66;03m# Check Broker Version if not set explicitly\u001b[39;00m\n\u001b[1;32m    261\u001b[0m \u001b[38;5;28;01mif\u001b[39;00m \u001b[38;5;28mself\u001b[39m\u001b[38;5;241m.\u001b[39mconfig[\u001b[38;5;124m'\u001b[39m\u001b[38;5;124mapi_version\u001b[39m\u001b[38;5;124m'\u001b[39m] \u001b[38;5;129;01mis\u001b[39;00m \u001b[38;5;28;01mNone\u001b[39;00m:\n\u001b[0;32m--> 262\u001b[0m     \u001b[38;5;28mself\u001b[39m\u001b[38;5;241m.\u001b[39mconfig[\u001b[38;5;124m'\u001b[39m\u001b[38;5;124mapi_version\u001b[39m\u001b[38;5;124m'\u001b[39m] \u001b[38;5;241m=\u001b[39m \u001b[38;5;28mself\u001b[39m\u001b[38;5;241m.\u001b[39mcheck_version()\n\u001b[1;32m    263\u001b[0m \u001b[38;5;28;01melif\u001b[39;00m \u001b[38;5;28mself\u001b[39m\u001b[38;5;241m.\u001b[39mconfig[\u001b[38;5;124m'\u001b[39m\u001b[38;5;124mapi_version\u001b[39m\u001b[38;5;124m'\u001b[39m] \u001b[38;5;129;01min\u001b[39;00m BROKER_API_VERSIONS:\n\u001b[1;32m    264\u001b[0m     \u001b[38;5;28mself\u001b[39m\u001b[38;5;241m.\u001b[39m_api_versions \u001b[38;5;241m=\u001b[39m BROKER_API_VERSIONS[\u001b[38;5;28mself\u001b[39m\u001b[38;5;241m.\u001b[39mconfig[\u001b[38;5;124m'\u001b[39m\u001b[38;5;124mapi_version\u001b[39m\u001b[38;5;124m'\u001b[39m]]\n",
        "File \u001b[0;32m/local_disk0/.ephemeral_nfs/envs/pythonEnv-d26eb304-58c2-4826-bf75-c8d00d6114b3/lib/python3.11/site-packages/kafka/client_async.py:1074\u001b[0m, in \u001b[0;36mKafkaClient.check_version\u001b[0;34m(self, node_id, timeout, **kwargs)\u001b[0m\n\u001b[1;32m   1072\u001b[0m     \u001b[38;5;28;01mraise\u001b[39;00m Errors\u001b[38;5;241m.\u001b[39mNodeNotReadyError(node_id)\n\u001b[1;32m   1073\u001b[0m \u001b[38;5;28;01melse\u001b[39;00m:\n\u001b[0;32m-> 1074\u001b[0m     \u001b[38;5;28;01mraise\u001b[39;00m Errors\u001b[38;5;241m.\u001b[39mNoBrokersAvailable()\n",
        "\u001b[0;31mNoBrokersAvailable\u001b[0m: NoBrokersAvailable"
       ],
       "type": "baseError"
      }
     },
     "output_type": "display_data"
    }
   ],
   "source": [
    "from kafka import KafkaProducer\n",
    "\n",
    "producer = KafkaProducer(bootstrap_servers='localhost:9092')\n",
    "\n",
    "for i in range(10):\n",
    "    msg = f\"Message {i}\"\n",
    "    producer.send('test-topic', value=msg.encode('utf-8'))\n",
    "    print(f\"Sent: {msg}\")\n",
    "\n",
    "producer.flush()\n"
   ]
  },
  {
   "cell_type": "code",
   "execution_count": 0,
   "metadata": {
    "application/vnd.databricks.v1+cell": {
     "cellMetadata": {
      "byteLimit": 2048000,
      "rowLimit": 10000
     },
     "inputWidgets": {},
     "nuid": "0e3b41ee-608e-4bad-a6a0-769d1bd67166",
     "showTitle": false,
     "tableResultSettingsMap": {},
     "title": ""
    }
   },
   "outputs": [
    {
     "name": "stdout",
     "output_type": "stream",
     "text": [
      "Collecting kafka-python\n",
      "  Downloading kafka_python-2.2.15-py2.py3-none-any.whl.metadata (10.0 kB)\n",
      "Downloading kafka_python-2.2.15-py2.py3-none-any.whl (309 kB)\n",
      "Installing collected packages: kafka-python\n",
      "Successfully installed kafka-python-2.2.15\n",
      "\u001b[43mNote: you may need to restart the kernel using %restart_python or dbutils.library.restartPython() to use updated packages.\u001b[0m\n"
     ]
    }
   ],
   "source": [
    "%pip install kafka-python"
   ]
  },
  {
   "cell_type": "code",
   "execution_count": 0,
   "metadata": {
    "application/vnd.databricks.v1+cell": {
     "cellMetadata": {},
     "inputWidgets": {},
     "nuid": "650724db-79ab-48ce-bd7b-00be76b9a0af",
     "showTitle": false,
     "tableResultSettingsMap": {},
     "title": ""
    }
   },
   "outputs": [],
   "source": []
  }
 ],
 "metadata": {
  "application/vnd.databricks.v1+notebook": {
   "computePreferences": {
    "hardware": {
     "accelerator": null,
     "gpuPoolId": null,
     "memory": null
    }
   },
   "dashboards": [],
   "environmentMetadata": {
    "base_environment": "",
    "environment_version": "2"
   },
   "inputWidgetPreferences": null,
   "language": "python",
   "notebookMetadata": {
    "mostRecentlyExecutedCommandWithImplicitDF": {
     "commandId": 7565278281147218,
     "dataframes": [
      "_sqldf"
     ]
    },
    "pythonIndentUnit": 4
   },
   "notebookName": "coingecko_ingest",
   "widgets": {}
  },
  "kernelspec": {
   "display_name": "Python 3",
   "language": "python",
   "name": "python3"
  },
  "language_info": {
   "codemirror_mode": {
    "name": "ipython",
    "version": 3
   },
   "file_extension": ".py",
   "mimetype": "text/x-python",
   "name": "python",
   "nbconvert_exporter": "python",
   "pygments_lexer": "ipython3",
   "version": "3.10.16"
  }
 },
 "nbformat": 4,
 "nbformat_minor": 0
}
